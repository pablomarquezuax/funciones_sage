{
 "cells": [
  {
   "cell_type": "code",
   "execution_count": 2,
   "metadata": {
    "collapsed": false
   },
   "outputs": [
    {
     "name": "stdout",
     "output_type": "stream",
     "text": [
      "Floor: -4\n",
      "Ceiling: -3\n"
     ]
    }
   ],
   "source": [
    "# Definir el número\n",
    "numero = -3.56\n",
    "\n",
    "# Calcular el floor\n",
    "floor_numero = floor(numero)\n",
    "\n",
    "# Calcular el ceiling\n",
    "ceiling_numero = ceil(numero)\n",
    "\n",
    "# Mostrar los resultados\n",
    "print(\"Floor:\", floor_numero)\n",
    "print(\"Ceiling:\", ceiling_numero)"
   ]
  },
  {
   "cell_type": "code",
   "execution_count": 3,
   "metadata": {
    "collapsed": false
   },
   "outputs": [
    {
     "name": "stdout",
     "output_type": "stream",
     "text": [
      "Logaritmo en base e: 2*log(10)\n",
      "Logaritmo en base 10: 2\n",
      "Cociente: log(10)\n"
     ]
    }
   ],
   "source": [
    "# Definir el número\n",
    "numero = 100\n",
    "\n",
    "# Calcular el logaritmo en base e\n",
    "log_e = log(numero)\n",
    "\n",
    "# Calcular el logaritmo en base 10\n",
    "log_10 = log(numero, 10)\n",
    "\n",
    "# Calcular el cociente\n",
    "cociente = log_e / log_10\n",
    "\n",
    "# Mostrar los resultados\n",
    "print(\"Logaritmo en base e:\", log_e)\n",
    "print(\"Logaritmo en base 10:\", log_10)\n",
    "print(\"Cociente:\", cociente)"
   ]
  },
  {
   "cell_type": "code",
   "execution_count": 4,
   "metadata": {
    "collapsed": false
   },
   "outputs": [
    {
     "name": "stdout",
     "output_type": "stream",
     "text": [
      "Logaritmo en base 2 de 64: 6\n"
     ]
    }
   ],
   "source": [
    "# Definir el número\n",
    "numero = 64\n",
    "\n",
    "# Calcular el logaritmo en base 2\n",
    "log_base_2 = log(numero, 2)\n",
    "\n",
    "# Mostrar el resultado\n",
    "print(\"Logaritmo en base 2 de 64:\", log_base_2)"
   ]
  },
  {
   "cell_type": "code",
   "execution_count": 5,
   "metadata": {
    "collapsed": false
   },
   "outputs": [
    {
     "name": "stdout",
     "output_type": "stream",
     "text": [
      "Resultado exacto (e^(i*pi)): -1\n",
      "Resultado aproximado (e^(i*pi) con pi aproximado): -1.00000000000000 + 1.22464679914735e-16*I\n"
     ]
    }
   ],
   "source": [
    "# Importar la constante pi\n",
    "from sage.all import pi\n",
    "\n",
    "# Calcular e^(i*pi)\n",
    "resultado_exacto = exp(I * pi)\n",
    "\n",
    "# Aproximar pi numéricamente\n",
    "pi_aproximado = pi.n()\n",
    "\n",
    "# Calcular e^(i*pi) usando pi aproximado\n",
    "resultado_aproximado = exp(I * pi_aproximado)\n",
    "\n",
    "# Mostrar los resultados\n",
    "print(\"Resultado exacto (e^(i*pi)):\", resultado_exacto)\n",
    "print(\"Resultado aproximado (e^(i*pi) con pi aproximado):\", resultado_aproximado)"
   ]
  },
  {
   "cell_type": "code",
   "execution_count": 19,
   "metadata": {
    "collapsed": false
   },
   "outputs": [
    {
     "name": "stdout",
     "output_type": "stream",
     "text": [
      "sin(pi/2): 1\n",
      "cot(pi/4): 1\n",
      "csc(pi/16): csc(1/16*pi)\n"
     ]
    }
   ],
   "source": [
    "# Importar funciones trigonométricas\n",
    "from sage.all import sin, cot, csc, pi\n",
    "\n",
    "# Calcular sin(pi/2)\n",
    "sin_pi_over_2 = sin(pi/2)\n",
    "\n",
    "# Calcular cot(pi/4)\n",
    "cot_pi_over_4 = cot(pi/4)\n",
    "\n",
    "# Calcular csc(pi/16)\n",
    "csc_pi_over_16 = csc(pi/16)\n",
    "\n",
    "# Mostrar los resultados\n",
    "print(\"sin(pi/2):\", sin_pi_over_2)\n",
    "print(\"cot(pi/4):\", cot_pi_over_4)\n",
    "print(\"csc(pi/16):\", csc_pi_over_16)"
   ]
  },
  {
   "cell_type": "code",
   "execution_count": 0,
   "metadata": {
    "collapsed": false
   },
   "outputs": [
   ],
   "source": [
   ]
  }
 ],
 "metadata": {
  "kernelspec": {
   "argv": [
    "sage-10.1",
    "--python",
    "-m",
    "sage.repl.ipython_kernel",
    "--matplotlib=inline",
    "-f",
    "{connection_file}"
   ],
   "display_name": "SageMath 10.1",
   "env": {
   },
   "language": "sagemath",
   "metadata": {
    "cocalc": {
     "description": "Open-source mathematical software system",
     "priority": 10,
     "url": "https://www.sagemath.org/"
    }
   },
   "name": "sage-10.1",
   "resource_dir": "/ext/jupyter/kernels/sage-10.1"
  },
  "language_info": {
   "codemirror_mode": {
    "name": "ipython",
    "version": 3
   },
   "file_extension": ".py",
   "mimetype": "text/x-python",
   "name": "python",
   "nbconvert_exporter": "python",
   "pygments_lexer": "ipython3",
   "version": "3.11.1"
  }
 },
 "nbformat": 4,
 "nbformat_minor": 4
}